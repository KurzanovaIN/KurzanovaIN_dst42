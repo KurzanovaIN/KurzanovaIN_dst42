{
 "cells": [
  {
   "cell_type": "markdown",
   "metadata": {},
   "source": [
    "# Загрузка Pandas и очистка данных"
   ]
  },
  {
   "cell_type": "code",
   "execution_count": 1,
   "metadata": {},
   "outputs": [],
   "source": [
    "import pandas as pd\n",
    "import re\n",
    "import datetime\n",
    "from datetime import datetime, timedelta\n",
    "import matplotlib.pyplot as plt\n",
    "import seaborn as sns\n",
    "from itertools import combinations\n",
    "from scipy.stats import ttest_ind"
   ]
  },
  {
   "cell_type": "code",
   "execution_count": 2,
   "metadata": {},
   "outputs": [],
   "source": [
    "df = pd.read_csv('main_task.csv')"
   ]
  },
  {
   "cell_type": "code",
   "execution_count": 3,
   "metadata": {},
   "outputs": [],
   "source": [
    "# Ваш код по очистке данных и генерации новых признаков\n",
    "# При необходимости добавьте ячейки"
   ]
  },
  {
   "cell_type": "code",
   "execution_count": 4,
   "metadata": {},
   "outputs": [
    {
     "name": "stderr",
     "output_type": "stream",
     "text": [
      "<ipython-input-4-cd2313e332fa>:75: DeprecationWarning: The default dtype for empty Series will be 'object' instead of 'float64' in a future version. Specify a dtype explicitly to silence this warning.\n",
      "  dates = pd.Series(\n",
      "<ipython-input-4-cd2313e332fa>:85: DeprecationWarning: The default dtype for empty Series will be 'object' instead of 'float64' in a future version. Specify a dtype explicitly to silence this warning.\n",
      "  dates = pd.Series(\n"
     ]
    }
   ],
   "source": [
    "'''создаем новые признаки'''\n",
    "\n",
    "# заполняем столбец с пропуском нулями вместо пропусков\n",
    "df['Number of Reviews'] = df['Number of Reviews'].fillna(0)\n",
    "\n",
    "# избавляемся от лишних символов в кухнях\n",
    "df['Cuisine Style'] = df['Cuisine Style'].fillna('0')\n",
    "df['Cuisine Style'] = df['Cuisine Style'].apply(\n",
    "    lambda x: str(x).replace('[', ''))\n",
    "df['Cuisine Style'] = df['Cuisine Style'].apply(\n",
    "    lambda x: str(x).replace(']', ''))\n",
    "df['Cuisine Style'] = df['Cuisine Style'].apply(\n",
    "    lambda x: str(x).replace(\"'\", ''))\n",
    "df['Cuisine Style'] = df['Cuisine Style'].apply(\n",
    "    lambda x: str(x).replace(', ', ','))\n",
    "\n",
    "\n",
    "# 1. Создаем столбец с количеством кухонь\n",
    "df['Cuisine_count'] = df['Cuisine Style'].apply(lambda x: len(list(x[1:-1].split(','))))\n",
    "\n",
    "# заменяем пустые значения Price_Range на самое часто встречаемое\n",
    "df['Price Range'] = df['Price Range'].fillna('$$ - $$$')\n",
    "\n",
    "# Преобразовываем категориальную переменную Price_Range в 3 индикаторные переменные.\n",
    "# 2. В df появляется три новых столбца с диапазоном цен\n",
    "df = pd.get_dummies(df, columns=['Price Range'])\n",
    "\n",
    "# Переименовываем столбцы в более понятный вид\n",
    "df.columns = ['Restaurant_id', 'City', 'Cuisine_Style', 'Ranking', 'Rating',\n",
    "              'Number_of_Reviews', 'Reviews', 'URL_TA', 'ID_TA', 'Cuisine_count', 'low_Price_Range', 'middle_Price_Range',\n",
    "              'high_Price_Range']\n",
    "\n",
    "# Преобразовываем категориальную переменную Cuisine_Style_list в индикаторные переменные.\n",
    "df['Cuisine_Style'] = df['Cuisine_Style'].apply(lambda x: x[1:-1])\n",
    "df_cuisine = df['Cuisine_Style'].str.get_dummies(sep=',')\n",
    "\n",
    "# 3. Добавим столбцы с dummy-переменными к датафрейму\n",
    "df = pd.concat([df, df_cuisine], axis=1)\n",
    "\n",
    "\n",
    "# Преобразовываем категориальную переменную City в индикаторные переменные.\n",
    "# 4. в df появляются новые индикаторные столбцы, соответствующие каждому городу\n",
    "df = pd.get_dummies(df, columns=['City'])\n",
    "\n",
    "\n",
    "'''обработка отзывов 'Reviews'. Работа с датами'''\n",
    "\n",
    "\n",
    "def get_date(string):\n",
    "    # зададим формат распознания даты (регулярные выражения)\n",
    "    dates = re.findall('\\d+\\/\\d+\\/\\d+', str(string))\n",
    "    return dates  # функция возвращает список из дат (строки)\n",
    "\n",
    "\n",
    "# 5. создадим столбец date применив функцию к столбцу Reviews\n",
    "df['date'] = df['Reviews'].apply(get_date)\n",
    "df['date']\n",
    "\n",
    "\n",
    "def change_date(dates):  # создаем функцию поиска и корректировки даты\n",
    "    if len(dates) == 3:\n",
    "        if dates == ['29/9/2016', '09/30/2016', '08/25/2016']:\n",
    "            return ['09/29/2016', '09/30/2016', '08/25/2016']\n",
    "        else:\n",
    "            return dates\n",
    "    else:\n",
    "        return dates\n",
    "\n",
    "\n",
    "df['date'] = df['date'].apply(change_date)\n",
    "\n",
    "\n",
    "def to_date_max(dates):\n",
    "    # переводим каждую строку из dates в формат datetime и сохраняем в виде Series\n",
    "    dates = pd.Series(\n",
    "        [pd.to_datetime(i, format='%m/%d/%Y', errors='coerce') for i in dates])\n",
    "    return dates.max()  # возвращаем max из Series\n",
    "\n",
    "\n",
    "# 6. применяем to_date_max к df['date'] и сохраняем в df['max']\n",
    "df['max'] = df['date'].apply(to_date_max)\n",
    "\n",
    "\n",
    "def to_date_min(dates):\n",
    "    dates = pd.Series(\n",
    "        [pd.to_datetime(i, format='%m/%d/%Y', errors='coerce') for i in dates])\n",
    "    return dates.min()\n",
    "\n",
    "\n",
    "# 7. добавляем минимальную (более ранюю) дату отзыва\n",
    "df['min'] = df['date'].apply(to_date_min)\n",
    "# 8. добавляем столбец с разницей в днях между отзывами\n",
    "df['diff'] = (df['max']-df['min']).apply(lambda x: x.days)\n",
    "# пустые значения заполняем средним значением количества дней\n",
    "df['diff'] = df['diff'].fillna(df['diff'].mean())\n",
    "# 9. добавляем информацию о сети\n",
    "chain_restor = df.Restaurant_id.value_counts(\n",
    ")[df.Restaurant_id.value_counts() > 1].index.tolist()\n",
    "df['chain_restor'] = df[df.Restaurant_id.isin(\n",
    "    chain_restor)].Restaurant_id.apply(lambda x: 1)\n",
    "df.chain_restor = df['chain_restor'].fillna(0)"
   ]
  },
  {
   "cell_type": "markdown",
   "metadata": {},
   "source": [
    "## Проверка выбросов\n",
    "\n",
    "Проверяем разброс дат отзывов на выбросы"
   ]
  },
  {
   "cell_type": "code",
   "execution_count": 5,
   "metadata": {},
   "outputs": [
    {
     "data": {
      "text/plain": [
       "count    40000.000000\n",
       "mean       122.455993\n",
       "std        193.406734\n",
       "min          0.000000\n",
       "25%         13.000000\n",
       "50%         76.000000\n",
       "75%        122.455993\n",
       "max       3207.000000\n",
       "Name: diff, dtype: float64"
      ]
     },
     "metadata": {},
     "output_type": "display_data"
    },
    {
     "data": {
      "image/png": "[encoded data removed]",
      "text/plain": [
       "<Figure size 432x288 with 1 Axes>"
      ]
     },
     "metadata": {
      "needs_background": "light"
     },
     "output_type": "display_data"
    }
   ],
   "source": [
    "df['diff'].hist()\n",
    "display(df['diff'].describe())"
   ]
  },
  {
   "cell_type": "markdown",
   "metadata": {},
   "source": [
    "Видим, что присутствует максимальное значение = 3207 дней. Похоже на выброс. Проверим:"
   ]
  },
  {
   "cell_type": "code",
   "execution_count": 6,
   "metadata": {},
   "outputs": [
    {
     "name": "stdout",
     "output_type": "stream",
     "text": [
      "25-й перцентиль: 13.0, 75-й перцентиль: 122.4559933192162, IQR: 109.4559933192162,  Границы выбросов: [-151.18398997882431, 286.63998329804053].\n"
     ]
    },
    {
     "data": {
      "text/plain": [
       "<matplotlib.legend.Legend at 0x1240915af40>"
      ]
     },
     "execution_count": 6,
     "metadata": {},
     "output_type": "execute_result"
    },
    {
     "data": {
      "image/png": "[encoded data removed]",
      "text/plain": [
       "<Figure size 432x288 with 1 Axes>"
      ]
     },
     "metadata": {
      "needs_background": "light"
     },
     "output_type": "display_data"
    }
   ],
   "source": [
    "IQR = df['diff'].quantile(0.75) - df['diff'].quantile(0.25)\n",
    "perc25 = df['diff'].quantile(0.25)\n",
    "perc75 = df['diff'].quantile(0.75)\n",
    "print('25-й перцентиль: {},'.format(perc25),\n",
    "      '75-й перцентиль: {},'.format(perc75),\n",
    "      \"IQR: {}, \".format(IQR),\n",
    "      \"Границы выбросов: [{f}, {l}].\".format(f=perc25 - 1.5*IQR,\n",
    "                                             l=perc75 + 1.5*IQR))\n",
    "\n",
    "df['diff'].loc[df['diff'].between(perc25 - 1.5*IQR,\n",
    "                                  perc75 + 1.5*IQR)].hist(bins=10,\n",
    "                                                          range=(0, 25),\n",
    "                                                          label='IQR')\n",
    "\n",
    "plt.legend()"
   ]
  },
  {
   "cell_type": "markdown",
   "metadata": {},
   "source": [
    "Получили выбросы выше 286 дней. "
   ]
  },
  {
   "cell_type": "code",
   "execution_count": 7,
   "metadata": {},
   "outputs": [],
   "source": [
    "# заменим выбросы на верхнюю границу + 1 (все что больше 286 дней)\n",
    "df['diff'].values[df['diff'].values > (\n",
    "    perc75 + 1.5*IQR)] = (perc75 + 1.5*IQR) + 1"
   ]
  },
  {
   "cell_type": "code",
   "execution_count": 8,
   "metadata": {},
   "outputs": [
    {
     "data": {
      "text/plain": [
       "count    40000.000000\n",
       "mean        95.371572\n",
       "std         91.321782\n",
       "min          0.000000\n",
       "25%         13.000000\n",
       "50%         76.000000\n",
       "75%        122.455993\n",
       "max        287.639983\n",
       "Name: diff, dtype: float64"
      ]
     },
     "metadata": {},
     "output_type": "display_data"
    },
    {
     "data": {
      "image/png": "[encoded data removed]",
      "text/plain": [
       "<Figure size 432x288 with 1 Axes>"
      ]
     },
     "metadata": {
      "needs_background": "light"
     },
     "output_type": "display_data"
    }
   ],
   "source": [
    "# проверяем\n",
    "\n",
    "df['diff'].hist()\n",
    "display(df['diff'].describe())"
   ]
  },
  {
   "cell_type": "markdown",
   "metadata": {},
   "source": [
    "## Корреляционный анализ"
   ]
  },
  {
   "cell_type": "markdown",
   "metadata": {},
   "source": [
    "Отбираем числовые столбцы для корреляционного анализа. Сюда не будем включать столбцы с городами и типом кухни, чтобы не загромождать анализ. Укажем только столбец с числом кухонь для каждого ресторана"
   ]
  },
  {
   "cell_type": "code",
   "execution_count": 9,
   "metadata": {},
   "outputs": [
    {
     "data": {
      "text/plain": [
       "<matplotlib.axes._subplots.AxesSubplot at 0x12409c64700>"
      ]
     },
     "execution_count": 9,
     "metadata": {},
     "output_type": "execute_result"
    },
    {
     "data": {
      "image/png": "[encoded data removed]",
      "text/plain": [
       "<Figure size 432x288 with 2 Axes>"
      ]
     },
     "metadata": {
      "needs_background": "light"
     },
     "output_type": "display_data"
    }
   ],
   "source": [
    "df1 = df[['Ranking','Rating','Number_of_Reviews','Cuisine_count',\n",
    "          'low_Price_Range','middle_Price_Range','high_Price_Range','diff',\n",
    "          'chain_restor']]\n",
    "\n",
    "sns.heatmap(df1.corr(), cmap=\"YlGnBu\")"
   ]
  },
  {
   "cell_type": "code",
   "execution_count": 10,
   "metadata": {},
   "outputs": [
    {
     "data": {
      "text/plain": [
       "low_Price_Range      -0.883652\n",
       "middle_Price_Range   -0.883652\n",
       "Ranking              -0.675937\n",
       "chain_restor         -0.675937\n",
       "high_Price_Range     -0.393300\n",
       "Rating               -0.368371\n",
       "Cuisine_count        -0.320250\n",
       "diff                 -0.232201\n",
       "Number_of_Reviews    -0.222072\n",
       "dtype: float64"
      ]
     },
     "execution_count": 10,
     "metadata": {},
     "output_type": "execute_result"
    }
   ],
   "source": [
    "df1.corr().min().sort_values()"
   ]
  },
  {
   "cell_type": "markdown",
   "metadata": {},
   "source": [
    "По матрице корреляции, а также по тепловой карте видно, что сильной прямой корреляции между разными данными нет (не считая переменных, которые коррелируют между собой же). С сильной обратной корреляцией можно заметить наиболее скоррелированные значения переменных **low_Price_Range** и **middle_Price_Range**, их значения корреляции составляют -0,8, можно убрать средний диапазон цен, оставив из диапазона цен только наиболее высокие цены (high_Price_Range) и наиболее низкие (low_Price_Range). "
   ]
  },
  {
   "cell_type": "code",
   "execution_count": 11,
   "metadata": {},
   "outputs": [],
   "source": [
    "# пробуем удалить столбцы 'middle_Price_Range'\n",
    "df = df.drop(['middle_Price_Range'], axis=1)"
   ]
  },
  {
   "cell_type": "markdown",
   "metadata": {},
   "source": [
    "Подготовим для обучения выборку, оставив лишь числовые столбцы. Переменные Rating и Restaurant_id оставляем, т.к. они будут удаляться позже при разбивке датафрейма. Уберем все номинативные столбцы:"
   ]
  },
  {
   "cell_type": "code",
   "execution_count": 12,
   "metadata": {},
   "outputs": [],
   "source": [
    "'''готовим датафрейм для дальнейшего обучения'''\n",
    "# находим все нечисловые столбцы, исключив Restaurant_id, он удалится позже\n",
    "columns_list = df.drop(['Restaurant_id'], axis=1).select_dtypes(\n",
    "    exclude='number').columns\n",
    "\n",
    "# удаляем все нечисловые столбцы из датафрейма из списка columns_list\n",
    "df = df.drop(columns_list, axis=1)"
   ]
  },
  {
   "cell_type": "code",
   "execution_count": null,
   "metadata": {},
   "outputs": [],
   "source": []
  },
  {
   "cell_type": "markdown",
   "metadata": {},
   "source": [
    "# Разбиваем датафрейм на части, необходимые для обучения и тестирования модели"
   ]
  },
  {
   "cell_type": "code",
   "execution_count": 13,
   "metadata": {},
   "outputs": [],
   "source": [
    "# Х - данные с информацией о ресторанах, у - целевая переменная (рейтинги ресторанов)\n",
    "X = df.drop(['Restaurant_id', 'Rating'], axis=1)\n",
    "y = df['Rating']"
   ]
  },
  {
   "cell_type": "code",
   "execution_count": 14,
   "metadata": {},
   "outputs": [],
   "source": [
    "# Загружаем специальный инструмент для разбивки:\n",
    "from sklearn.model_selection import train_test_split"
   ]
  },
  {
   "cell_type": "code",
   "execution_count": 15,
   "metadata": {},
   "outputs": [],
   "source": [
    "# Наборы данных с меткой \"train\" будут использоваться для обучения модели, \"test\" - для тестирования.\n",
    "# Для тестирования мы будем использовать 25% от исходного датасета.\n",
    "X_train, X_test, y_train, y_test = train_test_split(X, y, test_size=0.25)"
   ]
  },
  {
   "cell_type": "markdown",
   "metadata": {},
   "source": [
    "# Создаём, обучаем и тестируем модель"
   ]
  },
  {
   "cell_type": "code",
   "execution_count": 16,
   "metadata": {},
   "outputs": [],
   "source": [
    "# Импортируем необходимые библиотеки:\n",
    "from sklearn.ensemble import RandomForestRegressor # инструмент для создания и обучения модели\n",
    "from sklearn import metrics # инструменты для оценки точности модели"
   ]
  },
  {
   "cell_type": "code",
   "execution_count": 17,
   "metadata": {},
   "outputs": [],
   "source": [
    "# Создаём модель\n",
    "regr = RandomForestRegressor(n_estimators=100)\n",
    "\n",
    "# Обучаем модель на тестовом наборе данных\n",
    "regr.fit(X_train, y_train)\n",
    "\n",
    "# Используем обученную модель для предсказания рейтинга ресторанов в тестовой выборке.\n",
    "# Предсказанные значения записываем в переменную y_pred\n",
    "y_pred = regr.predict(X_test)"
   ]
  },
  {
   "cell_type": "code",
   "execution_count": 18,
   "metadata": {
    "scrolled": true
   },
   "outputs": [
    {
     "name": "stdout",
     "output_type": "stream",
     "text": [
      "MAE: 0.2107615\n"
     ]
    }
   ],
   "source": [
    "# Сравниваем предсказанные значения (y_pred) с реальными (y_test), и смотрим насколько они в среднем отличаются\n",
    "# Метрика называется Mean Absolute Error (MAE) и показывает среднее отклонение предсказанных значений от фактических.\n",
    "print('MAE:', metrics.mean_absolute_error(y_test, y_pred))"
   ]
  }
 ],
 "metadata": {
  "kernelspec": {
   "display_name": "Python 3",
   "language": "python",
   "name": "python3"
  },
  "language_info": {
   "codemirror_mode": {
    "name": "ipython",
    "version": 3
   },
   "file_extension": ".py",
   "mimetype": "text/x-python",
   "name": "python",
   "nbconvert_exporter": "python",
   "pygments_lexer": "ipython3",
   "version": "3.8.3"
  }
 },
 "nbformat": 4,
 "nbformat_minor": 2
}
